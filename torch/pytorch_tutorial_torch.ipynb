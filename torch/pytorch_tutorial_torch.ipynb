{
  "nbformat": 4,
  "nbformat_minor": 0,
  "metadata": {
    "colab": {
      "name": "pytorch_tutorial_torch.ipynb",
      "provenance": [],
      "collapsed_sections": [],
      "machine_shape": "hm"
    },
    "kernelspec": {
      "name": "python3",
      "display_name": "Python 3"
    },
    "language_info": {
      "name": "python"
    },
    "accelerator": "GPU"
  },
  "cells": [
    {
      "cell_type": "code",
      "execution_count": 1,
      "metadata": {
        "colab": {
          "base_uri": "https://localhost:8080/"
        },
        "id": "kyij8JZDOPsR",
        "outputId": "86dacc49-3e14-4f10-f056-fb656da54a98"
      },
      "outputs": [
        {
          "output_type": "stream",
          "name": "stdout",
          "text": [
            "Requirement already satisfied: torch in /usr/local/lib/python3.7/dist-packages (1.10.0+cu111)\n",
            "Requirement already satisfied: typing-extensions in /usr/local/lib/python3.7/dist-packages (from torch) (3.10.0.2)\n"
          ]
        }
      ],
      "source": [
        "!pip3 install torch"
      ]
    },
    {
      "cell_type": "markdown",
      "source": [
        "# TENSOR"
      ],
      "metadata": {
        "id": "fCrDDf7iV0ka"
      }
    },
    {
      "cell_type": "code",
      "source": [
        "import torch\n",
        "import numpy as np"
      ],
      "metadata": {
        "id": "aFDX4wp1Obua"
      },
      "execution_count": 2,
      "outputs": []
    },
    {
      "cell_type": "markdown",
      "source": [
        "## Tensor 초기화\n",
        "- Tensor는 자료구조의 형태\n",
        "- NumPy의 ndarray와 매우 유사\n"
      ],
      "metadata": {
        "id": "oO3WPqEeV6EL"
      }
    },
    {
      "cell_type": "code",
      "source": [
        "data = [[1, 2], [3, 4]]\n",
        "x_data = torch.tensor(data)\n",
        "## tensor 라는 배열, 행렬과 유사한구조의 자료구조"
      ],
      "metadata": {
        "id": "EWinIZaaVgf7"
      },
      "execution_count": 3,
      "outputs": []
    },
    {
      "cell_type": "code",
      "source": [
        "print(x_data)"
      ],
      "metadata": {
        "colab": {
          "base_uri": "https://localhost:8080/"
        },
        "id": "tLjjOO8AVjnk",
        "outputId": "c013c917-6040-4bf4-c8e1-7450518788f3"
      },
      "execution_count": 4,
      "outputs": [
        {
          "output_type": "stream",
          "name": "stdout",
          "text": [
            "tensor([[1, 2],\n",
            "        [3, 4]])\n"
          ]
        }
      ]
    },
    {
      "cell_type": "code",
      "source": [
        "np_array = np.array(data)\n",
        "x_np = torch.tensor(np_array) ## 배열형태 뿐만아니라, numpy 형태도 Tesor로 변환가능하다\n",
        "print(np_array)\n",
        "print(x_np)"
      ],
      "metadata": {
        "colab": {
          "base_uri": "https://localhost:8080/"
        },
        "id": "6kRVOKP2WGXc",
        "outputId": "9dd17cd3-f470-435c-836d-92b515836d54"
      },
      "execution_count": 5,
      "outputs": [
        {
          "output_type": "stream",
          "name": "stdout",
          "text": [
            "[[1 2]\n",
            " [3 4]]\n",
            "tensor([[1, 2],\n",
            "        [3, 4]])\n"
          ]
        }
      ]
    },
    {
      "cell_type": "code",
      "source": [
        "print(data)"
      ],
      "metadata": {
        "colab": {
          "base_uri": "https://localhost:8080/"
        },
        "id": "J-wvt_MhXQTr",
        "outputId": "b5baca69-372e-44ad-d95b-e764a7009759"
      },
      "execution_count": 6,
      "outputs": [
        {
          "output_type": "stream",
          "name": "stdout",
          "text": [
            "[[1, 2], [3, 4]]\n"
          ]
        }
      ]
    },
    {
      "cell_type": "code",
      "source": [
        "x_ones = torch.ones_like(x_data) ## torch화 할떄 모든 데이터 1로 변환\n",
        "print(f'ones = {x_ones}')\n",
        "\n",
        "x_rand = torch.rand_like(x_data, dtype=torch.float) # torch화 할때 모든데이터 rand(정규분포에 따른다.)\n",
        "print(f\"rand = {x_rand}\")\n",
        "\n",
        "# 특별히 torch.tensor를 하면 데이터 그대로, 값을 다른값으로 배열 모양은 같게 할수 있다."
      ],
      "metadata": {
        "colab": {
          "base_uri": "https://localhost:8080/"
        },
        "id": "iLunjqnwY-ai",
        "outputId": "ce918175-9625-4242-f5d4-ea1583c53873"
      },
      "execution_count": 7,
      "outputs": [
        {
          "output_type": "stream",
          "name": "stdout",
          "text": [
            "ones = tensor([[1, 1],\n",
            "        [1, 1]])\n",
            "rand = tensor([[0.4288, 0.0640],\n",
            "        [0.1585, 0.1471]])\n"
          ]
        }
      ]
    },
    {
      "cell_type": "code",
      "source": [
        "shape = (3,3)\n",
        "t_r = torch.rand(shape)\n",
        "t_o = torch.ones(shape)\n",
        "t_z = torch.zeros(shape)\n",
        "\n",
        "print(f\"{t_r}\\n {t_o}\\n {t_z}\")"
      ],
      "metadata": {
        "colab": {
          "base_uri": "https://localhost:8080/"
        },
        "id": "HMYo29tEZRZU",
        "outputId": "89e0e417-b58a-481d-b6b6-be27828aef48"
      },
      "execution_count": 8,
      "outputs": [
        {
          "output_type": "stream",
          "name": "stdout",
          "text": [
            "tensor([[0.2205, 0.9362, 0.8257],\n",
            "        [0.2511, 0.3531, 0.9187],\n",
            "        [0.2110, 0.1959, 0.5587]])\n",
            " tensor([[1., 1., 1.],\n",
            "        [1., 1., 1.],\n",
            "        [1., 1., 1.]])\n",
            " tensor([[0., 0., 0.],\n",
            "        [0., 0., 0.],\n",
            "        [0., 0., 0.]])\n"
          ]
        }
      ]
    },
    {
      "cell_type": "markdown",
      "source": [
        "## 텐서의 속성"
      ],
      "metadata": {
        "id": "VnxzBWg0ax9r"
      }
    },
    {
      "cell_type": "code",
      "source": [
        "tensor = torch.rand(3,4)\n",
        "\n",
        "print(f\"shape = {tensor.shape}\") # shape 볼수 있다.\n",
        "print(f\"d_type = {tensor.dtype}\") # datatype\n",
        "print(f\"device = {tensor.device}\") # device 볼수 있다.(어느장치에 저장되어있는지)"
      ],
      "metadata": {
        "colab": {
          "base_uri": "https://localhost:8080/"
        },
        "id": "AsFzz0i_aUpb",
        "outputId": "8dcbd7ae-a436-40b9-f86d-35ef4cac045e"
      },
      "execution_count": 9,
      "outputs": [
        {
          "output_type": "stream",
          "name": "stdout",
          "text": [
            "shape = torch.Size([3, 4])\n",
            "d_type = torch.float32\n",
            "device = cpu\n"
          ]
        }
      ]
    },
    {
      "cell_type": "code",
      "source": [
        "if torch.cuda.is_available(): #gpu가 존재하면\n",
        "  tensor = tensor.to('cuda') #저장위치 cuda로\n",
        "  print(tensor.device) #저장위치 변경"
      ],
      "metadata": {
        "colab": {
          "base_uri": "https://localhost:8080/"
        },
        "id": "QPyw7VuBaun7",
        "outputId": "c29ae6ac-fbbb-4eb8-c3f6-ff0099b7afc2"
      },
      "execution_count": 10,
      "outputs": [
        {
          "output_type": "stream",
          "name": "stdout",
          "text": [
            "cuda:0\n"
          ]
        }
      ]
    },
    {
      "cell_type": "code",
      "source": [
        "# numpy식 인덱싱 슬라이싱과 동일\n",
        "tensor = torch.ones(4,4)\n",
        "tensor[1,:] = 0\n",
        "tensor"
      ],
      "metadata": {
        "colab": {
          "base_uri": "https://localhost:8080/"
        },
        "id": "UdY8pZkBbgN7",
        "outputId": "57163770-6cbb-4ecf-b079-d6b1b91d15e2"
      },
      "execution_count": 11,
      "outputs": [
        {
          "output_type": "execute_result",
          "data": {
            "text/plain": [
              "tensor([[1., 1., 1., 1.],\n",
              "        [0., 0., 0., 0.],\n",
              "        [1., 1., 1., 1.],\n",
              "        [1., 1., 1., 1.]])"
            ]
          },
          "metadata": {},
          "execution_count": 11
        }
      ]
    },
    {
      "cell_type": "code",
      "source": [
        "# 텐서 합치기 가능\n",
        "t1 = torch.cat([tensor, tensor, tensor],dim=1) #dim=1 가로 붙이기 0가 defalut 세로붙이기\n",
        "t1"
      ],
      "metadata": {
        "colab": {
          "base_uri": "https://localhost:8080/"
        },
        "id": "sA8xh0Hfbvky",
        "outputId": "96904107-a00b-4e70-8bdc-b793d1e0e7be"
      },
      "execution_count": 12,
      "outputs": [
        {
          "output_type": "execute_result",
          "data": {
            "text/plain": [
              "tensor([[1., 1., 1., 1., 1., 1., 1., 1., 1., 1., 1., 1.],\n",
              "        [0., 0., 0., 0., 0., 0., 0., 0., 0., 0., 0., 0.],\n",
              "        [1., 1., 1., 1., 1., 1., 1., 1., 1., 1., 1., 1.],\n",
              "        [1., 1., 1., 1., 1., 1., 1., 1., 1., 1., 1., 1.]])"
            ]
          },
          "metadata": {},
          "execution_count": 12
        }
      ]
    },
    {
      "cell_type": "code",
      "source": [
        "## 텐서 곱하기\n",
        "\n",
        "print(f\"{tensor.mul(tensor)}\\n {tensor*tensor}\")\n",
        "tensor.matmul(tensor.T), tensor @ tensor"
      ],
      "metadata": {
        "colab": {
          "base_uri": "https://localhost:8080/"
        },
        "id": "-5JsTeNJcKWD",
        "outputId": "f57a0abf-60a2-44e7-dcb3-7f979e9261c8"
      },
      "execution_count": 13,
      "outputs": [
        {
          "output_type": "stream",
          "name": "stdout",
          "text": [
            "tensor([[1., 1., 1., 1.],\n",
            "        [0., 0., 0., 0.],\n",
            "        [1., 1., 1., 1.],\n",
            "        [1., 1., 1., 1.]])\n",
            " tensor([[1., 1., 1., 1.],\n",
            "        [0., 0., 0., 0.],\n",
            "        [1., 1., 1., 1.],\n",
            "        [1., 1., 1., 1.]])\n"
          ]
        },
        {
          "output_type": "execute_result",
          "data": {
            "text/plain": [
              "(tensor([[4., 0., 4., 4.],\n",
              "         [0., 0., 0., 0.],\n",
              "         [4., 0., 4., 4.],\n",
              "         [4., 0., 4., 4.]]), tensor([[3., 3., 3., 3.],\n",
              "         [0., 0., 0., 0.],\n",
              "         [3., 3., 3., 3.],\n",
              "         [3., 3., 3., 3.]]))"
            ]
          },
          "metadata": {},
          "execution_count": 13
        }
      ]
    },
    {
      "cell_type": "code",
      "source": [
        "## 바꿔치기 연산\n",
        "print(tensor)\n",
        "tensor += 5 ## tensor.add_(5)\n",
        "print(tensor)\n"
      ],
      "metadata": {
        "colab": {
          "base_uri": "https://localhost:8080/"
        },
        "id": "lK298CuAtFpE",
        "outputId": "07fb446d-4586-4568-ce4e-c4371bf446de"
      },
      "execution_count": 14,
      "outputs": [
        {
          "output_type": "stream",
          "name": "stdout",
          "text": [
            "tensor([[1., 1., 1., 1.],\n",
            "        [0., 0., 0., 0.],\n",
            "        [1., 1., 1., 1.],\n",
            "        [1., 1., 1., 1.]])\n",
            "tensor([[6., 6., 6., 6.],\n",
            "        [5., 5., 5., 5.],\n",
            "        [6., 6., 6., 6.],\n",
            "        [6., 6., 6., 6.]])\n"
          ]
        }
      ]
    },
    {
      "cell_type": "markdown",
      "source": [
        "## view\n",
        "- tensor의 크기나 size 변경"
      ],
      "metadata": {
        "id": "Uczxu61F_hv1"
      }
    },
    {
      "cell_type": "code",
      "source": [
        "x = torch.randn(4,5)\n",
        "y = x.view(20)\n",
        "z = x.view(5,-1)\n",
        "print(x.size())\n",
        "print(y.size())\n",
        "print(z.size()) #사이즈 변경\n",
        "print(x)\n",
        "print(y)\n",
        "print(z) #사이즈 변경\n"
      ],
      "metadata": {
        "colab": {
          "base_uri": "https://localhost:8080/"
        },
        "id": "hwa9vRRD_axe",
        "outputId": "d2819d69-d1fa-4bf9-96c7-5abcbb4ab851"
      },
      "execution_count": 20,
      "outputs": [
        {
          "output_type": "stream",
          "name": "stdout",
          "text": [
            "torch.Size([4, 5])\n",
            "torch.Size([20])\n",
            "torch.Size([5, 4])\n",
            "tensor([[ 1.1327, -0.4452, -0.6170,  0.4512, -0.7072],\n",
            "        [-0.0846,  0.8153,  0.4053, -1.1105, -0.1524],\n",
            "        [-0.5945, -2.3842, -0.2703, -1.0659,  1.3073],\n",
            "        [ 1.1176,  0.7335,  0.6620,  0.0911,  0.4731]])\n",
            "tensor([ 1.1327, -0.4452, -0.6170,  0.4512, -0.7072, -0.0846,  0.8153,  0.4053,\n",
            "        -1.1105, -0.1524, -0.5945, -2.3842, -0.2703, -1.0659,  1.3073,  1.1176,\n",
            "         0.7335,  0.6620,  0.0911,  0.4731])\n",
            "tensor([[ 1.1327, -0.4452, -0.6170,  0.4512],\n",
            "        [-0.7072, -0.0846,  0.8153,  0.4053],\n",
            "        [-1.1105, -0.1524, -0.5945, -2.3842],\n",
            "        [-0.2703, -1.0659,  1.3073,  1.1176],\n",
            "        [ 0.7335,  0.6620,  0.0911,  0.4731]])\n"
          ]
        }
      ]
    },
    {
      "cell_type": "markdown",
      "source": [
        "## item\n",
        "- 텐서의 값이 하나라도 존재하면 숫자값을 얻을수 있음"
      ],
      "metadata": {
        "id": "hsL25aLB_9jd"
      }
    },
    {
      "cell_type": "code",
      "source": [
        "x = torch.randn(1)\n",
        "print(x)\n",
        "print(x.item())\n",
        "print(x.dtype)"
      ],
      "metadata": {
        "colab": {
          "base_uri": "https://localhost:8080/"
        },
        "id": "GNqUs2CkACIU",
        "outputId": "1b762922-1105-4172-fc4d-79973a66fb63"
      },
      "execution_count": 23,
      "outputs": [
        {
          "output_type": "stream",
          "name": "stdout",
          "text": [
            "tensor([-1.5573])\n",
            "-1.557327389717102\n",
            "torch.float32\n"
          ]
        }
      ]
    },
    {
      "cell_type": "code",
      "source": [
        "x = torch.randn(2) \n",
        "print(x)\n",
        "print(x.item())#하나의 값만 가지고 올수 있다.\n",
        "print(x.dtype)"
      ],
      "metadata": {
        "colab": {
          "base_uri": "https://localhost:8080/",
          "height": 236
        },
        "id": "ya78mmdhARbU",
        "outputId": "6a84e0aa-956a-4494-93f0-53b29c65ba71"
      },
      "execution_count": 24,
      "outputs": [
        {
          "output_type": "stream",
          "name": "stdout",
          "text": [
            "tensor([2.5861, 0.7604])\n"
          ]
        },
        {
          "output_type": "error",
          "ename": "ValueError",
          "evalue": "ignored",
          "traceback": [
            "\u001b[0;31m---------------------------------------------------------------------------\u001b[0m",
            "\u001b[0;31mValueError\u001b[0m                                Traceback (most recent call last)",
            "\u001b[0;32m<ipython-input-24-7c023f92a1c8>\u001b[0m in \u001b[0;36m<module>\u001b[0;34m()\u001b[0m\n\u001b[1;32m      1\u001b[0m \u001b[0mx\u001b[0m \u001b[0;34m=\u001b[0m \u001b[0mtorch\u001b[0m\u001b[0;34m.\u001b[0m\u001b[0mrandn\u001b[0m\u001b[0;34m(\u001b[0m\u001b[0;36m2\u001b[0m\u001b[0;34m)\u001b[0m\u001b[0;34m\u001b[0m\u001b[0;34m\u001b[0m\u001b[0m\n\u001b[1;32m      2\u001b[0m \u001b[0mprint\u001b[0m\u001b[0;34m(\u001b[0m\u001b[0mx\u001b[0m\u001b[0;34m)\u001b[0m\u001b[0;34m\u001b[0m\u001b[0;34m\u001b[0m\u001b[0m\n\u001b[0;32m----> 3\u001b[0;31m \u001b[0mprint\u001b[0m\u001b[0;34m(\u001b[0m\u001b[0mx\u001b[0m\u001b[0;34m.\u001b[0m\u001b[0mitem\u001b[0m\u001b[0;34m(\u001b[0m\u001b[0;34m)\u001b[0m\u001b[0;34m)\u001b[0m\u001b[0;34m\u001b[0m\u001b[0;34m\u001b[0m\u001b[0m\n\u001b[0m\u001b[1;32m      4\u001b[0m \u001b[0mprint\u001b[0m\u001b[0;34m(\u001b[0m\u001b[0mx\u001b[0m\u001b[0;34m.\u001b[0m\u001b[0mdtype\u001b[0m\u001b[0;34m)\u001b[0m\u001b[0;34m\u001b[0m\u001b[0;34m\u001b[0m\u001b[0m\n",
            "\u001b[0;31mValueError\u001b[0m: only one element tensors can be converted to Python scalars"
          ]
        }
      ]
    },
    {
      "cell_type": "markdown",
      "source": [
        "## squeeze\n",
        "- 차원축소"
      ],
      "metadata": {
        "id": "qpcbRX7bAZ-O"
      }
    },
    {
      "cell_type": "code",
      "source": [
        "tensor = torch.rand(1,3,3)\n",
        "print(tensor.shape)\n",
        "print(tensor)"
      ],
      "metadata": {
        "colab": {
          "base_uri": "https://localhost:8080/"
        },
        "id": "16LcvE9VAb58",
        "outputId": "670b9f72-bca4-4605-d1df-f67420b52958"
      },
      "execution_count": 27,
      "outputs": [
        {
          "output_type": "stream",
          "name": "stdout",
          "text": [
            "torch.Size([1, 3, 3])\n",
            "tensor([[[0.0621, 0.3494, 0.0276],\n",
            "         [0.1496, 0.2616, 0.7866],\n",
            "         [0.4137, 0.7315, 0.7304]]])\n"
          ]
        }
      ]
    },
    {
      "cell_type": "code",
      "source": [
        "t = tensor.squeeze()\n",
        "print(t)\n",
        "print(t.shape)"
      ],
      "metadata": {
        "colab": {
          "base_uri": "https://localhost:8080/"
        },
        "id": "V-hePg_mAfp8",
        "outputId": "aa800b52-cd0b-4309-b2b2-48a8ac70a648"
      },
      "execution_count": 28,
      "outputs": [
        {
          "output_type": "stream",
          "name": "stdout",
          "text": [
            "tensor([[0.0621, 0.3494, 0.0276],\n",
            "        [0.1496, 0.2616, 0.7866],\n",
            "        [0.4137, 0.7315, 0.7304]])\n",
            "torch.Size([3, 3])\n"
          ]
        }
      ]
    },
    {
      "cell_type": "markdown",
      "source": [
        "## unsqueeze\n",
        "- 차원을 증가"
      ],
      "metadata": {
        "id": "uG8Ad1luAsYX"
      }
    },
    {
      "cell_type": "code",
      "source": [
        "tensor = torch.rand(1,3,3)\n",
        "print(tensor)\n",
        "print(tensor.shape)"
      ],
      "metadata": {
        "colab": {
          "base_uri": "https://localhost:8080/"
        },
        "id": "6oOpqrevAwTt",
        "outputId": "b1b22e82-ec21-4285-b41a-a68229141e67"
      },
      "execution_count": 29,
      "outputs": [
        {
          "output_type": "stream",
          "name": "stdout",
          "text": [
            "tensor([[[0.9012, 0.5460, 0.9687],\n",
            "         [0.2272, 0.8293, 0.0386],\n",
            "         [0.5149, 0.5855, 0.4449]]])\n",
            "torch.Size([1, 3, 3])\n"
          ]
        }
      ]
    },
    {
      "cell_type": "code",
      "source": [
        "t = tensor.unsqueeze(dim=0) #0 1 2....\n",
        "\n",
        "print(t)\n",
        "print(t.shape)"
      ],
      "metadata": {
        "colab": {
          "base_uri": "https://localhost:8080/"
        },
        "id": "T_-ODLZMA4SU",
        "outputId": "324b1656-19dc-4675-f5c2-2888ba9bb766"
      },
      "execution_count": 32,
      "outputs": [
        {
          "output_type": "stream",
          "name": "stdout",
          "text": [
            "tensor([[[[0.9012, 0.5460, 0.9687],\n",
            "          [0.2272, 0.8293, 0.0386],\n",
            "          [0.5149, 0.5855, 0.4449]]]])\n",
            "torch.Size([1, 1, 3, 3])\n"
          ]
        }
      ]
    },
    {
      "cell_type": "markdown",
      "source": [
        "## stack"
      ],
      "metadata": {
        "id": "EGZm9j-fBEAt"
      }
    },
    {
      "cell_type": "code",
      "source": [
        "x = torch.FloatTensor([1,4])\n",
        "y = torch.FloatTensor([2,5])\n",
        "z = torch.FloatTensor([3,6])\n",
        "\n",
        "print(torch.stack([x,y,z]))"
      ],
      "metadata": {
        "colab": {
          "base_uri": "https://localhost:8080/"
        },
        "id": "5nRLKNBWBE1v",
        "outputId": "a25178bb-1bf0-4871-ea69-9e025a0db760"
      },
      "execution_count": 33,
      "outputs": [
        {
          "output_type": "stream",
          "name": "stdout",
          "text": [
            "tensor([[1., 4.],\n",
            "        [2., 5.],\n",
            "        [3., 6.]])\n"
          ]
        }
      ]
    },
    {
      "cell_type": "markdown",
      "source": [
        "## cat"
      ],
      "metadata": {
        "id": "T6Nu8FtKBOuu"
      }
    },
    {
      "cell_type": "code",
      "source": [
        "a = torch.randn(1, 1, 3,3)\n",
        "b = torch.randn(1, 1, 3, 3)\n",
        "c = torch.cat((a,b), dim=0)\n",
        "print(c)\n",
        "print(c.size())"
      ],
      "metadata": {
        "colab": {
          "base_uri": "https://localhost:8080/"
        },
        "id": "j77vLq_pBPl1",
        "outputId": "3adc12db-d1e5-4774-cb1a-0a44bc76c1a5"
      },
      "execution_count": 34,
      "outputs": [
        {
          "output_type": "stream",
          "name": "stdout",
          "text": [
            "tensor([[[[-1.4862,  1.3793,  1.1235],\n",
            "          [ 1.1183, -0.4869,  2.0955],\n",
            "          [ 0.5475,  0.0107, -0.7318]]],\n",
            "\n",
            "\n",
            "        [[[-0.6779,  0.8750,  1.0543],\n",
            "          [-0.4169, -1.0245,  1.2099],\n",
            "          [ 1.5462, -0.9782, -0.1682]]]])\n",
            "torch.Size([2, 1, 3, 3])\n"
          ]
        }
      ]
    },
    {
      "cell_type": "code",
      "source": [
        "a = torch.randn(1, 3,3)\n",
        "b = torch.randn(1, 3, 3)\n",
        "c = torch.cat((a,b), dim=0) # dim 어디 추가할건지\n",
        "print(c)\n",
        "print(c.size())"
      ],
      "metadata": {
        "colab": {
          "base_uri": "https://localhost:8080/"
        },
        "id": "-eYfhaJMBf42",
        "outputId": "850db95f-d1e1-4619-e970-b3d279996691"
      },
      "execution_count": 37,
      "outputs": [
        {
          "output_type": "stream",
          "name": "stdout",
          "text": [
            "tensor([[[-0.6632,  0.7321, -1.9165],\n",
            "         [ 0.1374,  0.5053,  1.6921],\n",
            "         [-0.1180,  0.5755, -1.4824]],\n",
            "\n",
            "        [[ 0.5649,  0.4495, -0.2540],\n",
            "         [-0.0783,  1.8220,  0.5635],\n",
            "         [-1.8753, -0.5029,  0.5981]]])\n",
            "torch.Size([2, 3, 3])\n"
          ]
        }
      ]
    },
    {
      "cell_type": "markdown",
      "source": [
        "## chunk\n",
        "- 텐서를 여러 개로 나룰 때 사용\n",
        "- 몇개의 텐서로 나눌것이냐"
      ],
      "metadata": {
        "id": "s_pE48l0Bc2d"
      }
    },
    {
      "cell_type": "code",
      "source": [
        "tensor = torch.randn(3,6)\n",
        "t1, t2, t3 = torch.chunk(tensor,3,dim=1)\n",
        "print(tensor)\n",
        "print(tensor.shape)\n",
        "print(t1)\n",
        "print(t2)\n",
        "print(t3)"
      ],
      "metadata": {
        "colab": {
          "base_uri": "https://localhost:8080/"
        },
        "id": "DcRcwL_vBtXV",
        "outputId": "1b2915cb-e102-4302-86b8-c2e6ef5b467d"
      },
      "execution_count": 43,
      "outputs": [
        {
          "output_type": "stream",
          "name": "stdout",
          "text": [
            "tensor([[ 0.6083, -2.9330,  0.6086,  0.2429,  1.0682,  1.2160],\n",
            "        [-0.4872,  0.0252,  1.1551, -1.3903, -1.1649,  0.5762],\n",
            "        [ 0.2406,  1.3220,  0.1098,  0.1549,  1.8842,  1.6862]])\n",
            "torch.Size([3, 6])\n",
            "tensor([[ 0.6083, -2.9330],\n",
            "        [-0.4872,  0.0252],\n",
            "        [ 0.2406,  1.3220]])\n",
            "tensor([[ 0.6086,  0.2429],\n",
            "        [ 1.1551, -1.3903],\n",
            "        [ 0.1098,  0.1549]])\n",
            "tensor([[ 1.0682,  1.2160],\n",
            "        [-1.1649,  0.5762],\n",
            "        [ 1.8842,  1.6862]])\n"
          ]
        }
      ]
    },
    {
      "cell_type": "markdown",
      "source": [
        "## split\n",
        "- chunck 와 동일 조금 다름\n",
        "- 하나의 텐서당 크기가 얼마이냐"
      ],
      "metadata": {
        "id": "BaH2lXmjCKMM"
      }
    },
    {
      "cell_type": "code",
      "source": [
        "tensor = torch.rand(3,6)\n",
        "t1, t2 = torch.split(tensor, 3, dim=1) #하나의 텐서의 크기를 얼마로 정할건지 3\n",
        "print(tensor)\n",
        "print(t1)\n",
        "print(t2)\n",
        "\n",
        "# 개수가 아닌 크기로 나눈다."
      ],
      "metadata": {
        "colab": {
          "base_uri": "https://localhost:8080/"
        },
        "id": "0sqVNd0YCN6E",
        "outputId": "cb900f99-ace4-4807-cd68-67f6edd2e2e1"
      },
      "execution_count": 44,
      "outputs": [
        {
          "output_type": "stream",
          "name": "stdout",
          "text": [
            "tensor([[0.8277, 0.8065, 0.6160, 0.5783, 0.9654, 0.4354],\n",
            "        [0.7737, 0.1710, 0.8755, 0.3119, 0.3309, 0.9303],\n",
            "        [0.3491, 0.7189, 0.0223, 0.5946, 0.3768, 0.5165]])\n",
            "tensor([[0.8277, 0.8065, 0.6160],\n",
            "        [0.7737, 0.1710, 0.8755],\n",
            "        [0.3491, 0.7189, 0.0223]])\n",
            "tensor([[0.5783, 0.9654, 0.4354],\n",
            "        [0.3119, 0.3309, 0.9303],\n",
            "        [0.5946, 0.3768, 0.5165]])\n"
          ]
        }
      ]
    },
    {
      "cell_type": "markdown",
      "source": [
        "## torch <=> numpy\n",
        "- Torch Tensor 를 numpy array 로 변환가능\n",
        "- 메모리 공유하므로 서로 같이 변한다"
      ],
      "metadata": {
        "id": "H73OLpqHtX9M"
      }
    },
    {
      "cell_type": "code",
      "source": [
        " a = torch.ones(7)\n",
        " print(a)"
      ],
      "metadata": {
        "colab": {
          "base_uri": "https://localhost:8080/"
        },
        "id": "RyiHbW4PCyVH",
        "outputId": "633b4d9a-1e61-4618-a8f4-5dd606370f59"
      },
      "execution_count": 49,
      "outputs": [
        {
          "output_type": "stream",
          "name": "stdout",
          "text": [
            "tensor([1., 1., 1., 1., 1., 1., 1.])\n"
          ]
        }
      ]
    },
    {
      "cell_type": "code",
      "source": [
        "b= a.numpy()\n",
        "print(b)"
      ],
      "metadata": {
        "colab": {
          "base_uri": "https://localhost:8080/"
        },
        "id": "lMzZ5VniC9cl",
        "outputId": "fa372d2e-dfcd-43f3-d83f-4a6154298650"
      },
      "execution_count": 50,
      "outputs": [
        {
          "output_type": "stream",
          "name": "stdout",
          "text": [
            "[1. 1. 1. 1. 1. 1. 1.]\n"
          ]
        }
      ]
    },
    {
      "cell_type": "code",
      "source": [
        "a.add_(1) #inplace method\n",
        "print(a)\n",
        "print(b)"
      ],
      "metadata": {
        "colab": {
          "base_uri": "https://localhost:8080/"
        },
        "id": "19EtAxXQC_6l",
        "outputId": "7b1199ae-44c7-4dd1-d547-29a924c02c6a"
      },
      "execution_count": 51,
      "outputs": [
        {
          "output_type": "stream",
          "name": "stdout",
          "text": [
            "tensor([2., 2., 2., 2., 2., 2., 2.])\n",
            "[2. 2. 2. 2. 2. 2. 2.]\n"
          ]
        }
      ]
    },
    {
      "cell_type": "code",
      "source": [
        "import numpy\n",
        "\n",
        "a = np.ones(7)\n",
        "b = torch.from_numpy(a)\n",
        "c = torch.tensor(a)\n",
        "np.add(a, 1, out=a)\n",
        "print(a)\n",
        "print(b)\n",
        "print(c)"
      ],
      "metadata": {
        "colab": {
          "base_uri": "https://localhost:8080/"
        },
        "id": "c3m27apjDCVm",
        "outputId": "a762121d-546f-492d-a525-93ff60be4790"
      },
      "execution_count": 52,
      "outputs": [
        {
          "output_type": "stream",
          "name": "stdout",
          "text": [
            "[2. 2. 2. 2. 2. 2. 2.]\n",
            "tensor([2., 2., 2., 2., 2., 2., 2.], dtype=torch.float64)\n",
            "tensor([1., 1., 1., 1., 1., 1., 1.], dtype=torch.float64)\n"
          ]
        }
      ]
    },
    {
      "cell_type": "markdown",
      "source": [
        "## CUDA Tensors\n",
        "- .to 메소드를 사용하여 텐서를 어떠한 장치로 옮길수 잇음"
      ],
      "metadata": {
        "id": "WsfpuNFTDbBF"
      }
    },
    {
      "cell_type": "code",
      "source": [
        "x = torch.randn(1)\n",
        "print(x)\n",
        "print(x.item())\n",
        "print(x.dtype)\n",
        "print(x.device)"
      ],
      "metadata": {
        "colab": {
          "base_uri": "https://localhost:8080/"
        },
        "id": "gyKm_XIBDVA1",
        "outputId": "146518bd-7064-4e84-b161-e2a87d490708"
      },
      "execution_count": 56,
      "outputs": [
        {
          "output_type": "stream",
          "name": "stdout",
          "text": [
            "tensor([-0.4197])\n",
            "-0.419746994972229\n",
            "torch.float32\n",
            "cpu\n"
          ]
        }
      ]
    },
    {
      "cell_type": "code",
      "source": [
        "device = torch.device('cuda' if torch.cuda.is_available() else \"cpu\") # gpu 환경여부 확인\n",
        "print(device)\n",
        "\n",
        "y = torch.ones_like(x, device=device)\n",
        "x = x.to(device)\n",
        "z = x + y\n",
        "print(z)\n",
        "print(z.to('cpu',torch.double))"
      ],
      "metadata": {
        "colab": {
          "base_uri": "https://localhost:8080/"
        },
        "id": "Ykmx2JbFDpce",
        "outputId": "81dc3ae5-7b6f-47ff-c305-35113e63ec84"
      },
      "execution_count": 57,
      "outputs": [
        {
          "output_type": "stream",
          "name": "stdout",
          "text": [
            "cuda\n",
            "tensor([0.5803], device='cuda:0')\n",
            "tensor([0.5803], dtype=torch.float64)\n"
          ]
        }
      ]
    }
  ]
}