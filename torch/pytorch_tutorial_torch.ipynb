{
  "nbformat": 4,
  "nbformat_minor": 0,
  "metadata": {
    "colab": {
      "name": "pytorch_tutorial_torch.ipynb",
      "provenance": [],
      "collapsed_sections": [],
      "machine_shape": "hm"
    },
    "kernelspec": {
      "name": "python3",
      "display_name": "Python 3"
    },
    "language_info": {
      "name": "python"
    },
    "accelerator": "GPU"
  },
  "cells": [
    {
      "cell_type": "code",
      "execution_count": 1,
      "metadata": {
        "colab": {
          "base_uri": "https://localhost:8080/"
        },
        "id": "kyij8JZDOPsR",
        "outputId": "3c0e185f-4bdc-4c13-ee74-b4f413c7cbc0"
      },
      "outputs": [
        {
          "output_type": "stream",
          "name": "stdout",
          "text": [
            "Requirement already satisfied: torch in /usr/local/lib/python3.7/dist-packages (1.10.0+cu111)\n",
            "Requirement already satisfied: typing-extensions in /usr/local/lib/python3.7/dist-packages (from torch) (3.10.0.2)\n"
          ]
        }
      ],
      "source": [
        "!pip3 install torch"
      ]
    },
    {
      "cell_type": "markdown",
      "source": [
        "# TENSOR"
      ],
      "metadata": {
        "id": "fCrDDf7iV0ka"
      }
    },
    {
      "cell_type": "code",
      "source": [
        "import torch\n",
        "import numpy as np"
      ],
      "metadata": {
        "id": "aFDX4wp1Obua"
      },
      "execution_count": 2,
      "outputs": []
    },
    {
      "cell_type": "markdown",
      "source": [
        "## Tensor 초기화\n",
        "- Tensor는 자료구조의 형태\n",
        "- NumPy의 ndarray와 매우 유사\n"
      ],
      "metadata": {
        "id": "oO3WPqEeV6EL"
      }
    },
    {
      "cell_type": "code",
      "source": [
        "data = [[1, 2], [3, 4]]\n",
        "x_data = torch.tensor(data)\n",
        "## tensor 라는 배열, 행렬과 유사한구조의 자료구조"
      ],
      "metadata": {
        "id": "EWinIZaaVgf7"
      },
      "execution_count": 3,
      "outputs": []
    },
    {
      "cell_type": "code",
      "source": [
        "print(x_data)"
      ],
      "metadata": {
        "colab": {
          "base_uri": "https://localhost:8080/"
        },
        "id": "tLjjOO8AVjnk",
        "outputId": "fdeaa67e-b0c9-4140-ce8c-ca1a9bad7157"
      },
      "execution_count": 4,
      "outputs": [
        {
          "output_type": "stream",
          "name": "stdout",
          "text": [
            "tensor([[1, 2],\n",
            "        [3, 4]])\n"
          ]
        }
      ]
    },
    {
      "cell_type": "code",
      "source": [
        "np_array = np.array(data)\n",
        "x_np = torch.tensor(np_array) ## 배열형태 뿐만아니라, numpy 형태도 Tesor로 변환가능하다\n",
        "print(np_array)\n",
        "print(x_np)"
      ],
      "metadata": {
        "colab": {
          "base_uri": "https://localhost:8080/"
        },
        "id": "6kRVOKP2WGXc",
        "outputId": "ffd5bad2-68cf-4cf7-aab7-430fbcac6482"
      },
      "execution_count": 5,
      "outputs": [
        {
          "output_type": "stream",
          "name": "stdout",
          "text": [
            "[[1 2]\n",
            " [3 4]]\n",
            "tensor([[1, 2],\n",
            "        [3, 4]])\n"
          ]
        }
      ]
    },
    {
      "cell_type": "code",
      "source": [
        "print(data)"
      ],
      "metadata": {
        "colab": {
          "base_uri": "https://localhost:8080/"
        },
        "id": "J-wvt_MhXQTr",
        "outputId": "8746e96a-ff2e-40ca-e186-f3bc61d1660f"
      },
      "execution_count": 6,
      "outputs": [
        {
          "output_type": "stream",
          "name": "stdout",
          "text": [
            "[[1, 2], [3, 4]]\n"
          ]
        }
      ]
    },
    {
      "cell_type": "code",
      "source": [
        "x_ones = torch.ones_like(x_data) ## torch화 할떄 모든 데이터 1로 변환\n",
        "print(f'ones = {x_ones}')\n",
        "\n",
        "x_rand = torch.rand_like(x_data, dtype=torch.float) # torch화 할때 모든데이터 rand(정규분포에 따른다.)\n",
        "print(f\"rand = {x_rand}\")\n",
        "\n",
        "# 특별히 torch.tensor를 하면 데이터 그대로, 값을 다른값으로 배열 모양은 같게 할수 있다."
      ],
      "metadata": {
        "colab": {
          "base_uri": "https://localhost:8080/"
        },
        "id": "iLunjqnwY-ai",
        "outputId": "d5b2ea55-8e9b-4da6-db74-23bf7640b479"
      },
      "execution_count": 7,
      "outputs": [
        {
          "output_type": "stream",
          "name": "stdout",
          "text": [
            "ones = tensor([[1, 1],\n",
            "        [1, 1]])\n",
            "rand = tensor([[0.7639, 0.3003],\n",
            "        [0.5518, 0.5327]])\n"
          ]
        }
      ]
    },
    {
      "cell_type": "code",
      "source": [
        "shape = (3,3)\n",
        "t_r = torch.rand(shape)\n",
        "t_o = torch.ones(shape)\n",
        "t_z = torch.zeros(shape)\n",
        "\n",
        "print(f\"{t_r}\\n {t_o}\\n {t_z}\")"
      ],
      "metadata": {
        "colab": {
          "base_uri": "https://localhost:8080/"
        },
        "id": "HMYo29tEZRZU",
        "outputId": "e28274c3-8a42-475e-df64-78ee94dca695"
      },
      "execution_count": 8,
      "outputs": [
        {
          "output_type": "stream",
          "name": "stdout",
          "text": [
            "tensor([[0.0775, 0.3179, 0.2499],\n",
            "        [0.7375, 0.2444, 0.2552],\n",
            "        [0.7123, 0.4438, 0.3465]])\n",
            " tensor([[1., 1., 1.],\n",
            "        [1., 1., 1.],\n",
            "        [1., 1., 1.]])\n",
            " tensor([[0., 0., 0.],\n",
            "        [0., 0., 0.],\n",
            "        [0., 0., 0.]])\n"
          ]
        }
      ]
    },
    {
      "cell_type": "markdown",
      "source": [
        "## 텐서의 속성"
      ],
      "metadata": {
        "id": "VnxzBWg0ax9r"
      }
    },
    {
      "cell_type": "code",
      "source": [
        "tensor = torch.rand(3,4)\n",
        "\n",
        "print(f\"shape = {tensor.shape}\") # shape 볼수 있다.\n",
        "print(f\"d_type = {tensor.dtype}\") # datatype\n",
        "print(f\"device = {tensor.device}\") # device 볼수 있다.(어느장치에 저장되어있는지)"
      ],
      "metadata": {
        "colab": {
          "base_uri": "https://localhost:8080/"
        },
        "id": "AsFzz0i_aUpb",
        "outputId": "460a49fa-4fe6-4372-ebd9-905678b2a0e7"
      },
      "execution_count": 9,
      "outputs": [
        {
          "output_type": "stream",
          "name": "stdout",
          "text": [
            "shape = torch.Size([3, 4])\n",
            "d_type = torch.float32\n",
            "device = cpu\n"
          ]
        }
      ]
    },
    {
      "cell_type": "code",
      "source": [
        "if torch.cuda.is_available(): #gpu가 존재하면\n",
        "  tensor = tensor.to('cuda') #저장위치 cuda로\n",
        "  print(tensor.device) #저장위치 변경"
      ],
      "metadata": {
        "colab": {
          "base_uri": "https://localhost:8080/"
        },
        "id": "QPyw7VuBaun7",
        "outputId": "1762d215-940f-4831-e73b-e97eb5bee047"
      },
      "execution_count": 12,
      "outputs": [
        {
          "output_type": "stream",
          "name": "stdout",
          "text": [
            "cuda:0\n"
          ]
        }
      ]
    },
    {
      "cell_type": "code",
      "source": [
        "# numpy식 인덱싱 슬라이싱과 동일\n",
        "tensor = torch.ones(4,4)\n",
        "tensor[1,:] = 0\n",
        "tensor"
      ],
      "metadata": {
        "colab": {
          "base_uri": "https://localhost:8080/"
        },
        "id": "UdY8pZkBbgN7",
        "outputId": "09fd71db-4e3d-4b7c-cade-81c19fb9febd"
      },
      "execution_count": 22,
      "outputs": [
        {
          "output_type": "execute_result",
          "data": {
            "text/plain": [
              "tensor([[1., 1., 1., 1.],\n",
              "        [0., 0., 0., 0.],\n",
              "        [1., 1., 1., 1.],\n",
              "        [1., 1., 1., 1.]])"
            ]
          },
          "metadata": {},
          "execution_count": 22
        }
      ]
    },
    {
      "cell_type": "code",
      "source": [
        "# 텐서 합치기 가능\n",
        "t1 = torch.cat([tensor, tensor, tensor],dim=1) #dim=1 가로 붙이기 0가 defalut 세로붙이기\n",
        "t1"
      ],
      "metadata": {
        "colab": {
          "base_uri": "https://localhost:8080/"
        },
        "id": "sA8xh0Hfbvky",
        "outputId": "71bb19a8-567b-4ebf-fdb9-e28049c00ae4"
      },
      "execution_count": 30,
      "outputs": [
        {
          "output_type": "execute_result",
          "data": {
            "text/plain": [
              "tensor([[1., 1., 1., 1., 1., 1., 1., 1., 1., 1., 1., 1.],\n",
              "        [0., 0., 0., 0., 0., 0., 0., 0., 0., 0., 0., 0.],\n",
              "        [1., 1., 1., 1., 1., 1., 1., 1., 1., 1., 1., 1.],\n",
              "        [1., 1., 1., 1., 1., 1., 1., 1., 1., 1., 1., 1.]])"
            ]
          },
          "metadata": {},
          "execution_count": 30
        }
      ]
    },
    {
      "cell_type": "code",
      "source": [
        "## 텐서 곱하기\n",
        "\n",
        "print(f\"{tensor.mul(tensor)}\\n {tensor*tensor}\")\n",
        "tensor.matmul(tensor.T), tensor @ tensor"
      ],
      "metadata": {
        "colab": {
          "base_uri": "https://localhost:8080/"
        },
        "id": "-5JsTeNJcKWD",
        "outputId": "fbe98ab0-cf61-4ac8-e70d-6716ed9260c2"
      },
      "execution_count": 35,
      "outputs": [
        {
          "output_type": "stream",
          "name": "stdout",
          "text": [
            "tensor([[1., 1., 1., 1.],\n",
            "        [0., 0., 0., 0.],\n",
            "        [1., 1., 1., 1.],\n",
            "        [1., 1., 1., 1.]])\n",
            " tensor([[1., 1., 1., 1.],\n",
            "        [0., 0., 0., 0.],\n",
            "        [1., 1., 1., 1.],\n",
            "        [1., 1., 1., 1.]])\n"
          ]
        },
        {
          "output_type": "execute_result",
          "data": {
            "text/plain": [
              "(tensor([[4., 0., 4., 4.],\n",
              "         [0., 0., 0., 0.],\n",
              "         [4., 0., 4., 4.],\n",
              "         [4., 0., 4., 4.]]), tensor([[3., 3., 3., 3.],\n",
              "         [0., 0., 0., 0.],\n",
              "         [3., 3., 3., 3.],\n",
              "         [3., 3., 3., 3.]]))"
            ]
          },
          "metadata": {},
          "execution_count": 35
        }
      ]
    },
    {
      "cell_type": "code",
      "source": [
        "## 바꿔치기 연산\n",
        "print(tensor)\n",
        "tensor += 5 ## tensor.add_(5)\n",
        "print(tensor)\n"
      ],
      "metadata": {
        "colab": {
          "base_uri": "https://localhost:8080/"
        },
        "id": "lK298CuAtFpE",
        "outputId": "6d6b525b-30b2-4b56-ceba-89197615fd03"
      },
      "execution_count": 36,
      "outputs": [
        {
          "output_type": "stream",
          "name": "stdout",
          "text": [
            "tensor([[1., 1., 1., 1.],\n",
            "        [0., 0., 0., 0.],\n",
            "        [1., 1., 1., 1.],\n",
            "        [1., 1., 1., 1.]])\n",
            "tensor([[6., 6., 6., 6.],\n",
            "        [5., 5., 5., 5.],\n",
            "        [6., 6., 6., 6.],\n",
            "        [6., 6., 6., 6.]])\n"
          ]
        }
      ]
    },
    {
      "cell_type": "markdown",
      "source": [
        "## Numpy로 변환"
      ],
      "metadata": {
        "id": "H73OLpqHtX9M"
      }
    },
    {
      "cell_type": "code",
      "source": [
        "t = torch.ones(5)\n",
        "print(f\"t: {t}\")\n",
        "n = t.numpy() ## tensor --> numpy\n",
        "print(f\"n: {n}\")"
      ],
      "metadata": {
        "colab": {
          "base_uri": "https://localhost:8080/"
        },
        "id": "L2Zig69TtZVd",
        "outputId": "33dee11e-103d-4af1-d71b-d77a720869a0"
      },
      "execution_count": 40,
      "outputs": [
        {
          "output_type": "stream",
          "name": "stdout",
          "text": [
            "t: tensor([1., 1., 1., 1., 1.])\n",
            "n: [1. 1. 1. 1. 1.]\n"
          ]
        }
      ]
    },
    {
      "cell_type": "code",
      "source": [
        "t.add_(1)\n",
        "print(f\"{t}\\n {n}\") # 같이 변한다."
      ],
      "metadata": {
        "colab": {
          "base_uri": "https://localhost:8080/"
        },
        "id": "CVExYNmTtjU0",
        "outputId": "f9835662-ef2d-49be-cde8-43af91e44c1b"
      },
      "execution_count": 41,
      "outputs": [
        {
          "output_type": "stream",
          "name": "stdout",
          "text": [
            "tensor([2., 2., 2., 2., 2.])\n",
            " [2. 2. 2. 2. 2.]\n"
          ]
        }
      ]
    },
    {
      "cell_type": "code",
      "source": [
        "n = np.ones(5)\n",
        "t = torch.from_numpy(n)\n",
        "t"
      ],
      "metadata": {
        "colab": {
          "base_uri": "https://localhost:8080/"
        },
        "id": "zBj24Vk1tqT0",
        "outputId": "d4f4257a-f6fb-4b62-90fd-a9c76e2c337c"
      },
      "execution_count": 43,
      "outputs": [
        {
          "output_type": "execute_result",
          "data": {
            "text/plain": [
              "tensor([1., 1., 1., 1., 1.], dtype=torch.float64)"
            ]
          },
          "metadata": {},
          "execution_count": 43
        }
      ]
    }
  ]
}