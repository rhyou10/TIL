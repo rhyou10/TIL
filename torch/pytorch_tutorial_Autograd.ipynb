{
  "nbformat": 4,
  "nbformat_minor": 0,
  "metadata": {
    "colab": {
      "name": "pytorch_tutorial_Autograd.ipynb",
      "provenance": [],
      "collapsed_sections": [],
      "machine_shape": "hm"
    },
    "kernelspec": {
      "name": "python3",
      "display_name": "Python 3"
    },
    "language_info": {
      "name": "python"
    },
    "accelerator": "GPU"
  },
  "cells": [
    {
      "cell_type": "markdown",
      "metadata": {
        "id": "NKqiGvLWx2nk"
      },
      "source": [
        "## AUTOGRAD (자동미분)\n",
        "- autograd 패키지는 Tensor의 모든 연산에 대해 **자동 미분** 제공\n",
        "\n",
        "- 이는 코드를 어떻게 작성하여 실행하느냐에 따라 역전파가 정의된다는 뜻\n",
        "\n",
        "- backprop를 위한 미분값을 자동으로 계산"
      ]
    },
    {
      "cell_type": "markdown",
      "metadata": {
        "id": "0zH41l-MyMHi"
      },
      "source": [
        "### Tensor\n",
        "\n",
        "- data: tensor형태의 데이터\n",
        "\n",
        "- grad: data가 겨쳐온 layer에 대한 미분값 저장\n",
        "\n",
        "- grad_fn: 미분값을 계산한 함수에 대한 정보 저장 (어떤 함수에 대해서 backprop 했는지)\n",
        "\n",
        "- `requires_grad` 속성을 `True`로 설정하면, 해당 텐서에서 이루어지는 모든 연산들을 추적하기 시작\n",
        "\n",
        "- 계산이 완료된 후, `.backward()`를 호출하면 자동으로 `gradient`를 계산할 수 있으며, `.grad` 속성에 누적됨\n",
        "\n",
        "- 기록을 추적하는 것을 중단하게 하려면, `.detach()`를 호출하여 연산기록으로부터 분리\n",
        "\n",
        "- 기록을 추적하는 것을 방지하기 위해 코드 블럭을 `with torch.no_grad():`로 감싸면 `gradient`는 필요없지만, `requires_grad=True`로 설정되어 학습 가능한 매개변수를 갖는 모델을 평가(evaluate)할 때 유용\n",
        "\n",
        "- Autograd 구현에서 매우 중요한 클래스 : `Function` 클래스"
      ]
    },
    {
      "cell_type": "code",
      "metadata": {
        "id": "ipdk_1jfx47I"
      },
      "source": [
        "import torch"
      ],
      "execution_count": 1,
      "outputs": []
    },
    {
      "cell_type": "code",
      "metadata": {
        "id": "ljNU-r9p0Rpo",
        "colab": {
          "base_uri": "https://localhost:8080/"
        },
        "outputId": "c41baa96-4412-4fe7-e4d0-d22d5872c696"
      },
      "source": [
        "x = torch.ones(3, 3, requires_grad=True)\n",
        "print(x)"
      ],
      "execution_count": 43,
      "outputs": [
        {
          "output_type": "stream",
          "name": "stdout",
          "text": [
            "tensor([[1., 1., 1.],\n",
            "        [1., 1., 1.],\n",
            "        [1., 1., 1.]], requires_grad=True)\n"
          ]
        }
      ]
    },
    {
      "cell_type": "code",
      "metadata": {
        "id": "or6sQ4EB0UYz",
        "colab": {
          "base_uri": "https://localhost:8080/"
        },
        "outputId": "ae4cc414-b050-4cd6-906f-0453d435eb2c"
      },
      "source": [
        "y = x + 5\n",
        "print(y) #backward붙는다"
      ],
      "execution_count": 44,
      "outputs": [
        {
          "output_type": "stream",
          "name": "stdout",
          "text": [
            "tensor([[6., 6., 6.],\n",
            "        [6., 6., 6.],\n",
            "        [6., 6., 6.]], grad_fn=<AddBackward0>)\n"
          ]
        }
      ]
    },
    {
      "cell_type": "code",
      "metadata": {
        "id": "PuQ7xDmu0Wpj",
        "colab": {
          "base_uri": "https://localhost:8080/"
        },
        "outputId": "1ca94ef6-0c29-449e-a355-0dfb415571a5"
      },
      "source": [
        "print(y.grad_fn)"
      ],
      "execution_count": 45,
      "outputs": [
        {
          "output_type": "stream",
          "name": "stdout",
          "text": [
            "<AddBackward0 object at 0x7f5b21819790>\n"
          ]
        }
      ]
    },
    {
      "cell_type": "code",
      "metadata": {
        "id": "6_2iM-Zq0ZdG",
        "colab": {
          "base_uri": "https://localhost:8080/"
        },
        "outputId": "9b43ade6-8fff-47f2-dfa3-67fed481841a"
      },
      "source": [
        "z = y * y * 2\n",
        "out = z.mean()\n",
        "print(z, out) #곱에대한 backward가 붙는다."
      ],
      "execution_count": 46,
      "outputs": [
        {
          "output_type": "stream",
          "name": "stdout",
          "text": [
            "tensor([[72., 72., 72.],\n",
            "        [72., 72., 72.],\n",
            "        [72., 72., 72.]], grad_fn=<MulBackward0>) tensor(72., grad_fn=<MeanBackward0>)\n"
          ]
        }
      ]
    },
    {
      "cell_type": "markdown",
      "metadata": {
        "id": "2aZ8SWn_0nqt"
      },
      "source": [
        "- `requires_grad_(...)`는 기존 텐서의 `requires_grad`값을 바꿔치기(`in-place`)하여 변경"
      ]
    },
    {
      "cell_type": "code",
      "metadata": {
        "id": "mHGROgrM0ebO",
        "colab": {
          "base_uri": "https://localhost:8080/"
        },
        "outputId": "4510e828-6df4-4d61-b8a9-09dfb60de901"
      },
      "source": [
        "a = torch.randn(3,3)\n",
        "a = ((a * 3) / (a - 1))\n",
        "print(a.requires_grad)\n",
        "\n",
        "a.requires_grad_(True)\n",
        "print(a.requires_grad)\n",
        "\n",
        "b = (a*a).sum() \n",
        "print(b.grad_fn) \n",
        "##계산을 추척한다 "
      ],
      "execution_count": 47,
      "outputs": [
        {
          "output_type": "stream",
          "name": "stdout",
          "text": [
            "False\n",
            "True\n",
            "<SumBackward0 object at 0x7f5b19080e10>\n"
          ]
        }
      ]
    },
    {
      "cell_type": "markdown",
      "metadata": {
        "id": "KiEn_stZ1VgU"
      },
      "source": [
        "### 기울기(Gradient)\n",
        "- 역전파: `.backward()`를 통해 역전파 계산 가능\n",
        "\n",
        "![image.png](data:image/png;base64,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)"
      ]
    },
    {
      "cell_type": "code",
      "metadata": {
        "id": "1tdoN9p-1kn4"
      },
      "source": [
        "out.backward()"
      ],
      "execution_count": 48,
      "outputs": []
    },
    {
      "cell_type": "code",
      "metadata": {
        "id": "CixGTXbV1B9p",
        "colab": {
          "base_uri": "https://localhost:8080/"
        },
        "outputId": "a6f6a36e-7c8e-4a74-d141-0467c12c2ff6"
      },
      "source": [
        "print(x.grad)"
      ],
      "execution_count": 49,
      "outputs": [
        {
          "output_type": "stream",
          "name": "stdout",
          "text": [
            "tensor([[2.6667, 2.6667, 2.6667],\n",
            "        [2.6667, 2.6667, 2.6667],\n",
            "        [2.6667, 2.6667, 2.6667]])\n"
          ]
        }
      ]
    },
    {
      "cell_type": "code",
      "metadata": {
        "id": "SY63Mcc-1iNI",
        "colab": {
          "base_uri": "https://localhost:8080/"
        },
        "outputId": "f234a624-c292-4ea2-b8d3-05d9584b9a7d"
      },
      "source": [
        "x = torch.randn(3, requires_grad=True)\n",
        "\n",
        "y = x * 2\n",
        "while y.data.norm() < 1000: #1000미만일떄까지\n",
        "  y = y * 2\n",
        "\n",
        "print(y)"
      ],
      "execution_count": 50,
      "outputs": [
        {
          "output_type": "stream",
          "name": "stdout",
          "text": [
            "tensor([-844.0374, -840.5577, -717.7084], grad_fn=<MulBackward0>)\n"
          ]
        }
      ]
    },
    {
      "cell_type": "code",
      "metadata": {
        "id": "YPaVAbIT3gx_",
        "colab": {
          "base_uri": "https://localhost:8080/"
        },
        "outputId": "2af4203e-01e1-43f8-bb90-42e133914afe"
      },
      "source": [
        "v = torch.tensor([0.1, 1.0, 0.0001], dtype = torch.float)\n",
        "y.backward(v) #v에대한 y의 기울기\n",
        "\n",
        "print(x.grad)"
      ],
      "execution_count": 51,
      "outputs": [
        {
          "output_type": "stream",
          "name": "stdout",
          "text": [
            "tensor([2.0480e+02, 2.0480e+03, 2.0480e-01])\n"
          ]
        }
      ]
    },
    {
      "cell_type": "markdown",
      "metadata": {
        "id": "0b9amArPXtcX"
      },
      "source": [
        "- `with torch.no_grad()`를 사용하여 gradient의 업데이트를 하지 않음"
      ]
    },
    {
      "cell_type": "code",
      "metadata": {
        "id": "weeIe5_Z3jVe",
        "colab": {
          "base_uri": "https://localhost:8080/"
        },
        "outputId": "7e9e029e-ee6f-4d24-c814-a362ffcc25cf"
      },
      "source": [
        "print(x.requires_grad)\n",
        "print((x**2).requires_grad)\n",
        "\n",
        "with torch.no_grad():\n",
        "  print((x **2).requires_grad)"
      ],
      "execution_count": 52,
      "outputs": [
        {
          "output_type": "stream",
          "name": "stdout",
          "text": [
            "True\n",
            "True\n",
            "False\n"
          ]
        }
      ]
    },
    {
      "cell_type": "markdown",
      "metadata": {
        "id": "bLcTLVRSmCdH"
      },
      "source": [
        "- `detach()`: 내용물(content)은 같지만 require_grad가 다른 새로운 Tensor를 가져올 때"
      ]
    },
    {
      "cell_type": "code",
      "metadata": {
        "id": "ALcth7Ew3l7H",
        "colab": {
          "base_uri": "https://localhost:8080/"
        },
        "outputId": "93224e8b-3c6b-44bb-c43d-2689dca67b62"
      },
      "source": [
        "print(x.requires_grad)\n",
        "y = x.detach()\n",
        "print(y.requires_grad)\n",
        "print(x.eq(y).all()) #x,y 값 서로 같은지확인-->같음"
      ],
      "execution_count": 54,
      "outputs": [
        {
          "output_type": "stream",
          "name": "stdout",
          "text": [
            "True\n",
            "False\n",
            "tensor(True)\n"
          ]
        }
      ]
    },
    {
      "cell_type": "markdown",
      "metadata": {
        "id": "NSarysrqBh9D"
      },
      "source": [
        "### 자동 미분 흐름 다시 보기(1)\n",
        "- 계산 흐름  \n",
        "  $a \\rightarrow b  \\rightarrow c  \\rightarrow out $\n",
        "\n",
        "<br>\n",
        "\n",
        "## $\\quad \\frac{\\partial out}{\\partial a} = ?$\n",
        "- `backward()`를 통해  \n",
        "  $a \\leftarrow b  \\leftarrow c  \\leftarrow out $을 계산하면  \n",
        "    $\\frac{\\partial out}{\\partial a}$값이 `a.grad`에 채워짐\n"
      ]
    },
    {
      "cell_type": "code",
      "metadata": {
        "id": "NUAc1etP3oBc",
        "colab": {
          "base_uri": "https://localhost:8080/"
        },
        "outputId": "cd89efcd-6da9-4c53-8a5c-1d14546442a8"
      },
      "source": [
        "a = torch.ones(2,2)\n",
        "print(a)"
      ],
      "execution_count": 55,
      "outputs": [
        {
          "output_type": "stream",
          "name": "stdout",
          "text": [
            "tensor([[1., 1.],\n",
            "        [1., 1.]])\n"
          ]
        }
      ]
    },
    {
      "cell_type": "code",
      "metadata": {
        "id": "tCW7dq9uB89T",
        "colab": {
          "base_uri": "https://localhost:8080/"
        },
        "outputId": "ea3fd7e6-7f72-42aa-b9d1-73588a3789d5"
      },
      "source": [
        "a = torch.ones(2,2,requires_grad=True)\n",
        "print(a)"
      ],
      "execution_count": 56,
      "outputs": [
        {
          "output_type": "stream",
          "name": "stdout",
          "text": [
            "tensor([[1., 1.],\n",
            "        [1., 1.]], requires_grad=True)\n"
          ]
        }
      ]
    },
    {
      "cell_type": "code",
      "metadata": {
        "id": "-AyyGy49FLz9",
        "colab": {
          "base_uri": "https://localhost:8080/"
        },
        "outputId": "c197ff04-1260-4e66-a6bc-d93ca086ab57"
      },
      "source": [
        "print('a.data:', a)\n",
        "print('a.grad', a.grad)\n",
        "print('a.grad_fn', a.grad_fn)"
      ],
      "execution_count": 58,
      "outputs": [
        {
          "output_type": "stream",
          "name": "stdout",
          "text": [
            "a.data: tensor([[1., 1.],\n",
            "        [1., 1.]], requires_grad=True)\n",
            "a.grad None\n",
            "a.grad_fn None\n"
          ]
        }
      ]
    },
    {
      "cell_type": "markdown",
      "metadata": {
        "id": "BCwhTsiHGCmG"
      },
      "source": [
        "- $b = a + 2$"
      ]
    },
    {
      "cell_type": "code",
      "metadata": {
        "id": "iUPt042iF9V1",
        "colab": {
          "base_uri": "https://localhost:8080/"
        },
        "outputId": "f5773b2d-c2ad-48bf-cf2e-364089eba3bd"
      },
      "source": [
        "b = a + 2\n",
        "print(b)"
      ],
      "execution_count": 59,
      "outputs": [
        {
          "output_type": "stream",
          "name": "stdout",
          "text": [
            "tensor([[3., 3.],\n",
            "        [3., 3.]], grad_fn=<AddBackward0>)\n"
          ]
        }
      ]
    },
    {
      "cell_type": "markdown",
      "metadata": {
        "id": "6cw2zoq9GHLF"
      },
      "source": [
        "- $c = b^2$ "
      ]
    },
    {
      "cell_type": "code",
      "metadata": {
        "id": "FRDS6gP0GFZG",
        "colab": {
          "base_uri": "https://localhost:8080/"
        },
        "outputId": "6a2007c0-d460-4ef9-83c5-257a07148ad5"
      },
      "source": [
        "c = b ** 2\n",
        "print(c)"
      ],
      "execution_count": 60,
      "outputs": [
        {
          "output_type": "stream",
          "name": "stdout",
          "text": [
            "tensor([[9., 9.],\n",
            "        [9., 9.]], grad_fn=<PowBackward0>)\n"
          ]
        }
      ]
    },
    {
      "cell_type": "code",
      "metadata": {
        "id": "VynoiUywGSwh",
        "colab": {
          "base_uri": "https://localhost:8080/"
        },
        "outputId": "7cf00825-dde4-49e1-a11a-ad15862ca591"
      },
      "source": [
        "out = c.sum()\n",
        "print(out)"
      ],
      "execution_count": 61,
      "outputs": [
        {
          "output_type": "stream",
          "name": "stdout",
          "text": [
            "tensor(36., grad_fn=<SumBackward0>)\n"
          ]
        }
      ]
    },
    {
      "cell_type": "code",
      "metadata": {
        "id": "v3ryJon9GeMn",
        "colab": {
          "base_uri": "https://localhost:8080/"
        },
        "outputId": "9f0592bf-bce1-4d3c-a7bc-eac4013cc1b1"
      },
      "source": [
        "print(out)\n",
        "out.backward()"
      ],
      "execution_count": 62,
      "outputs": [
        {
          "output_type": "stream",
          "name": "stdout",
          "text": [
            "tensor(36., grad_fn=<SumBackward0>)\n"
          ]
        }
      ]
    },
    {
      "cell_type": "markdown",
      "metadata": {
        "id": "f0aoNsPDHsoG"
      },
      "source": [
        "- a의 `grad_fn`이 None인 이유  \n",
        "  직접적으로 계산한 부분이 없었기 때문"
      ]
    },
    {
      "cell_type": "code",
      "metadata": {
        "id": "bccI4vIWGgqj",
        "colab": {
          "base_uri": "https://localhost:8080/"
        },
        "outputId": "3e431530-1ce9-4e8f-9a09-507eb03e26ba"
      },
      "source": [
        "print('a.data:', a.data)\n",
        "print('a.grad', a.grad)\n",
        "print('a.grad_fn', a.grad_fn)"
      ],
      "execution_count": 64,
      "outputs": [
        {
          "output_type": "stream",
          "name": "stdout",
          "text": [
            "a.data: tensor([[1., 1.],\n",
            "        [1., 1.]])\n",
            "a.grad tensor([[6., 6.],\n",
            "        [6., 6.]])\n",
            "a.grad_fn None\n"
          ]
        }
      ]
    },
    {
      "cell_type": "code",
      "metadata": {
        "id": "oka1mkadHq-N",
        "colab": {
          "base_uri": "https://localhost:8080/"
        },
        "outputId": "86a9fce1-6cab-4d30-8598-0e1464fc0c93"
      },
      "source": [
        "print('b.data:', b.data)\n",
        "print('b.grad', b.grad)\n",
        "print('b.grad_fn', b.grad_fn)"
      ],
      "execution_count": 65,
      "outputs": [
        {
          "output_type": "stream",
          "name": "stdout",
          "text": [
            "b.data: tensor([[3., 3.],\n",
            "        [3., 3.]])\n",
            "b.grad None\n",
            "b.grad_fn <AddBackward0 object at 0x7f5b18fed410>\n"
          ]
        },
        {
          "output_type": "stream",
          "name": "stderr",
          "text": [
            "/usr/local/lib/python3.7/dist-packages/torch/_tensor.py:1013: UserWarning: The .grad attribute of a Tensor that is not a leaf Tensor is being accessed. Its .grad attribute won't be populated during autograd.backward(). If you indeed want the .grad field to be populated for a non-leaf Tensor, use .retain_grad() on the non-leaf Tensor. If you access the non-leaf Tensor by mistake, make sure you access the leaf Tensor instead. See github.com/pytorch/pytorch/pull/30531 for more informations. (Triggered internally at  aten/src/ATen/core/TensorBody.h:417.)\n",
            "  return self._grad\n"
          ]
        }
      ]
    },
    {
      "cell_type": "code",
      "metadata": {
        "id": "ZiYNajdLccUF",
        "colab": {
          "base_uri": "https://localhost:8080/"
        },
        "outputId": "0c593f7c-2023-41b5-ce54-3cb07c79006b"
      },
      "source": [
        "print('c.data:', c.data)\n",
        "print('c.grad', c.grad)\n",
        "print('c.grad_fn', c.grad_fn)"
      ],
      "execution_count": 66,
      "outputs": [
        {
          "output_type": "stream",
          "name": "stdout",
          "text": [
            "c.data: tensor([[9., 9.],\n",
            "        [9., 9.]])\n",
            "c.grad None\n",
            "c.grad_fn <PowBackward0 object at 0x7f5b19080d90>\n"
          ]
        },
        {
          "output_type": "stream",
          "name": "stderr",
          "text": [
            "/usr/local/lib/python3.7/dist-packages/torch/_tensor.py:1013: UserWarning: The .grad attribute of a Tensor that is not a leaf Tensor is being accessed. Its .grad attribute won't be populated during autograd.backward(). If you indeed want the .grad field to be populated for a non-leaf Tensor, use .retain_grad() on the non-leaf Tensor. If you access the non-leaf Tensor by mistake, make sure you access the leaf Tensor instead. See github.com/pytorch/pytorch/pull/30531 for more informations. (Triggered internally at  aten/src/ATen/core/TensorBody.h:417.)\n",
            "  return self._grad\n"
          ]
        }
      ]
    },
    {
      "cell_type": "code",
      "metadata": {
        "id": "BcLoMYite0vU",
        "colab": {
          "base_uri": "https://localhost:8080/"
        },
        "outputId": "799e1d19-66b8-41e9-ddc4-0e9a908177ad"
      },
      "source": [
        "print('out.data:', out.data)\n",
        "print('out.grad', out.grad)\n",
        "print('out.grad_fn', out.grad_fn)"
      ],
      "execution_count": 67,
      "outputs": [
        {
          "output_type": "stream",
          "name": "stdout",
          "text": [
            "out.data: tensor(36.)\n",
            "out.grad None\n",
            "out.grad_fn <SumBackward0 object at 0x7f5b217dbe50>\n"
          ]
        },
        {
          "output_type": "stream",
          "name": "stderr",
          "text": [
            "/usr/local/lib/python3.7/dist-packages/torch/_tensor.py:1013: UserWarning: The .grad attribute of a Tensor that is not a leaf Tensor is being accessed. Its .grad attribute won't be populated during autograd.backward(). If you indeed want the .grad field to be populated for a non-leaf Tensor, use .retain_grad() on the non-leaf Tensor. If you access the non-leaf Tensor by mistake, make sure you access the leaf Tensor instead. See github.com/pytorch/pytorch/pull/30531 for more informations. (Triggered internally at  aten/src/ATen/core/TensorBody.h:417.)\n",
            "  return self._grad\n"
          ]
        }
      ]
    },
    {
      "cell_type": "markdown",
      "metadata": {
        "id": "qZXgwviHfovj"
      },
      "source": [
        "### 자동 미분 흐름 다시 보기(2)\n",
        "- `grad`값을 넣어서 `backward`\n",
        "\n",
        "- 아래의 코드에서 `.grad`값이 None은 gradient값이 필요하지 않기 때문"
      ]
    },
    {
      "cell_type": "code",
      "metadata": {
        "id": "bB6DCYXRfcI_",
        "colab": {
          "base_uri": "https://localhost:8080/"
        },
        "outputId": "5f224790-5985-4b00-b666-2688672697af"
      },
      "source": [
        "x = torch.ones(3, requires_grad=True)\n",
        "y = x ** 2\n",
        "z = y ** 2 + x\n",
        "out = z.sum()\n",
        "print(out)"
      ],
      "execution_count": 68,
      "outputs": [
        {
          "output_type": "stream",
          "name": "stdout",
          "text": [
            "tensor(6., grad_fn=<SumBackward0>)\n"
          ]
        }
      ]
    },
    {
      "cell_type": "code",
      "metadata": {
        "id": "AVo-glm8fvFv"
      },
      "source": [
        "grad = torch.Tensor([0.1, 1, 100])\n",
        "z.backward(grad)"
      ],
      "execution_count": 69,
      "outputs": []
    },
    {
      "cell_type": "code",
      "metadata": {
        "id": "tdBklrepf2qq",
        "colab": {
          "base_uri": "https://localhost:8080/"
        },
        "outputId": "68f87171-d786-45ee-d652-825c76efc23c"
      },
      "source": [
        "print('x.data:', x.data)\n",
        "print('x.grad', x.grad)\n",
        "print('x.grad_fn', x.grad_fn)"
      ],
      "execution_count": 70,
      "outputs": [
        {
          "output_type": "stream",
          "name": "stdout",
          "text": [
            "x.data: tensor([1., 1., 1.])\n",
            "x.grad tensor([  0.5000,   5.0000, 500.0000])\n",
            "x.grad_fn None\n"
          ]
        }
      ]
    },
    {
      "cell_type": "code",
      "metadata": {
        "id": "HQvUGlfRf7jU",
        "colab": {
          "base_uri": "https://localhost:8080/"
        },
        "outputId": "543d7975-c69a-47ad-c861-dfea47388a7a"
      },
      "source": [
        "print('y.data:', y.data)\n",
        "print('y.grad', y.grad)\n",
        "print('y.grad_fn', y.grad_fn)"
      ],
      "execution_count": 71,
      "outputs": [
        {
          "output_type": "stream",
          "name": "stdout",
          "text": [
            "y.data: tensor([1., 1., 1.])\n",
            "y.grad None\n",
            "y.grad_fn <PowBackward0 object at 0x7f5b217b9d10>\n"
          ]
        },
        {
          "output_type": "stream",
          "name": "stderr",
          "text": [
            "/usr/local/lib/python3.7/dist-packages/torch/_tensor.py:1013: UserWarning: The .grad attribute of a Tensor that is not a leaf Tensor is being accessed. Its .grad attribute won't be populated during autograd.backward(). If you indeed want the .grad field to be populated for a non-leaf Tensor, use .retain_grad() on the non-leaf Tensor. If you access the non-leaf Tensor by mistake, make sure you access the leaf Tensor instead. See github.com/pytorch/pytorch/pull/30531 for more informations. (Triggered internally at  aten/src/ATen/core/TensorBody.h:417.)\n",
            "  return self._grad\n"
          ]
        }
      ]
    },
    {
      "cell_type": "code",
      "metadata": {
        "id": "h7TFHdMfgxvW",
        "colab": {
          "base_uri": "https://localhost:8080/"
        },
        "outputId": "bbf6eb05-31ae-4a91-e67d-73d2e721bf3a"
      },
      "source": [
        "print('z.data:', z.data)\n",
        "print('z.grad', z.grad)\n",
        "print('z.grad_fn', z.grad_fn)"
      ],
      "execution_count": 73,
      "outputs": [
        {
          "output_type": "stream",
          "name": "stdout",
          "text": [
            "z.data: tensor([2., 2., 2.])\n",
            "z.grad None\n",
            "z.grad_fn <AddBackward0 object at 0x7f5b1900b310>\n"
          ]
        },
        {
          "output_type": "stream",
          "name": "stderr",
          "text": [
            "/usr/local/lib/python3.7/dist-packages/torch/_tensor.py:1013: UserWarning: The .grad attribute of a Tensor that is not a leaf Tensor is being accessed. Its .grad attribute won't be populated during autograd.backward(). If you indeed want the .grad field to be populated for a non-leaf Tensor, use .retain_grad() on the non-leaf Tensor. If you access the non-leaf Tensor by mistake, make sure you access the leaf Tensor instead. See github.com/pytorch/pytorch/pull/30531 for more informations. (Triggered internally at  aten/src/ATen/core/TensorBody.h:417.)\n",
            "  return self._grad\n"
          ]
        }
      ]
    }
  ]
}